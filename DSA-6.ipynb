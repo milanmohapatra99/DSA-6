{
 "cells": [
  {
   "cell_type": "markdown",
   "id": "3a905666",
   "metadata": {},
   "source": [
    "Q1. A permutation perm of n + 1 integers of all the integers in the range [0, n] can be represented as a string s of length n where:\n",
    "\n",
    "- s[i] == 'I' if perm[i] < perm[i + 1], and\n",
    "- s[i] == 'D' if perm[i] > perm[i + 1].\n",
    "\n",
    "Given a string s, reconstruct the permutation perm and return it. If there are multiple valid permutations perm, return **any of them**."
   ]
  },
  {
   "cell_type": "code",
   "execution_count": 2,
   "id": "bf65218c",
   "metadata": {},
   "outputs": [],
   "source": [
    "def reconstruct_permutation(s):\n",
    "    perm = []\n",
    "    n = len(s)\n",
    "    low, high = 0, n\n",
    "\n",
    "    for c in s:\n",
    "        if c == 'I':\n",
    "            perm.append(low)\n",
    "            low += 1\n",
    "        elif c == 'D':\n",
    "            perm.append(high)\n",
    "            high -= 1\n",
    "\n",
    "    perm.append(low)  # or perm.append(high), they will be the same\n",
    "\n",
    "    return perm\n"
   ]
  },
  {
   "cell_type": "markdown",
   "id": "0822423d",
   "metadata": {},
   "source": [
    "Q2. You are given an m x n integer matrix matrix with the following two properties:\n",
    "\n",
    "- Each row is sorted in non-decreasing order.\n",
    "- The first integer of each row is greater than the last integer of the previous row.\n",
    "\n",
    "Given an integer target, return true *if* target *is in* matrix *or* false *otherwise*.\n",
    "\n",
    "You must write a solution in O(log(m * n)) time complexity."
   ]
  },
  {
   "cell_type": "code",
   "execution_count": 3,
   "id": "2b4ffec9",
   "metadata": {},
   "outputs": [],
   "source": [
    "def search_matrix(matrix, target):\n",
    "    m = len(matrix)\n",
    "    n = len(matrix[0])\n",
    "\n",
    "    left = 0\n",
    "    right = m * n - 1\n",
    "\n",
    "    while left <= right:\n",
    "        mid = (left + right) // 2\n",
    "        row = mid // n\n",
    "        col = mid % n\n",
    "\n",
    "        if matrix[row][col] == target:\n",
    "            return True\n",
    "        elif matrix[row][col] > target:\n",
    "            right = mid - 1\n",
    "        else:\n",
    "            left = mid + 1\n",
    "\n",
    "    return False\n"
   ]
  },
  {
   "cell_type": "markdown",
   "id": "f08beba7",
   "metadata": {},
   "source": [
    "Q3. Given an array of integers arr, return *true if and only if it is a valid mountain array*.\n",
    "\n",
    "Recall that arr is a mountain array if and only if:\n",
    "\n",
    "- arr.length >= 3\n",
    "- There exists some i with 0 < i < arr.length - 1 such that:\n",
    "    - arr[0] < arr[1] < ... < arr[i - 1] < arr[i]\n",
    "    - arr[i] > arr[i + 1] > ... > arr[arr.length - 1]"
   ]
  },
  {
   "cell_type": "code",
   "execution_count": 4,
   "id": "62278245",
   "metadata": {},
   "outputs": [],
   "source": [
    "def valid_mountain_array(arr):\n",
    "    if len(arr) < 3:\n",
    "        return False\n",
    "\n",
    "    i = 0\n",
    "    while i < len(arr) - 1 and arr[i] < arr[i+1]:\n",
    "        i += 1\n",
    "\n",
    "    if i == 0 or i == len(arr) - 1:\n",
    "        return False\n",
    "\n",
    "    while i < len(arr) - 1 and arr[i] > arr[i+1]:\n",
    "        i += 1\n",
    "\n",
    "    return i == len(arr) - 1\n"
   ]
  },
  {
   "cell_type": "markdown",
   "id": "6aa6141d",
   "metadata": {},
   "source": [
    "Q4. Given a binary array nums, return the maximum length of a contiguous subarray with an equal number of 0 and 1."
   ]
  },
  {
   "cell_type": "code",
   "execution_count": 5,
   "id": "6174a605",
   "metadata": {},
   "outputs": [],
   "source": [
    "def findMaxLength(nums):\n",
    "    max_length = 0\n",
    "    count = 0\n",
    "    count_map = {0: -1}\n",
    "\n",
    "    for i in range(len(nums)):\n",
    "        if nums[i] == 0:\n",
    "            count -= 1\n",
    "        else:\n",
    "            count += 1\n",
    "\n",
    "        if count in count_map:\n",
    "            max_length = max(max_length, i - count_map[count])\n",
    "        else:\n",
    "            count_map[count] = i\n",
    "\n",
    "    return max_length\n"
   ]
  },
  {
   "cell_type": "markdown",
   "id": "53d5214e",
   "metadata": {},
   "source": [
    "Q5. The **product sum** of two equal-length arrays a and b is equal to the sum of a[i] * b[i] for all 0 <= i < a.length (**0-indexed**).\n",
    "\n",
    "- For example, if a = [1,2,3,4] and b = [5,2,3,1], the **product sum** would be 1*5 + 2*2 + 3*3 + 4*1 = 22.\n",
    "\n",
    "Given two arrays nums1 and nums2 of length n, return *the **minimum product sum** if you are allowed to **rearrange** the **order** of the elements in* nums1."
   ]
  },
  {
   "cell_type": "code",
   "execution_count": 6,
   "id": "cf58f2c0",
   "metadata": {},
   "outputs": [],
   "source": [
    "def minProductSum(nums1, nums2):\n",
    "    nums1.sort()\n",
    "    nums2.sort(reverse=True)\n",
    "\n",
    "    min_product_sum = 0\n",
    "    n = len(nums1)\n",
    "    for i in range(n):\n",
    "        min_product_sum += nums1[i] * nums2[n - i - 1]\n",
    "\n",
    "    return min_product_sum\n"
   ]
  },
  {
   "cell_type": "markdown",
   "id": "58eba651",
   "metadata": {},
   "source": [
    "Q6. An integer array original is transformed into a **doubled** array changed by appending **twice the value** of every element in original, and then randomly **shuffling** the resulting array.\n",
    "\n",
    "Given an array changed, return original *if* changed *is a **doubled** array. If* changed *is not a **doubled** array, return an empty array. The elements in* original *may be returned in **any** order*."
   ]
  },
  {
   "cell_type": "code",
   "execution_count": 7,
   "id": "90592913",
   "metadata": {},
   "outputs": [],
   "source": [
    "from collections import defaultdict\n",
    "\n",
    "def findOriginalArray(changed):\n",
    "    count = defaultdict(int)\n",
    "\n",
    "    for num in changed:\n",
    "        count[num] += 1\n",
    "\n",
    "    original = []\n",
    "\n",
    "    for num, freq in sorted(count.items()):\n",
    "        if freq % 2 != 0:\n",
    "            return []\n",
    "        if num * 2 not in count or count[num * 2] < freq:\n",
    "            return []\n",
    "\n",
    "        original.extend([num // 2] * freq)\n",
    "        count[num * 2] -= freq\n",
    "\n",
    "    return original\n"
   ]
  },
  {
   "cell_type": "markdown",
   "id": "217ac0d5",
   "metadata": {},
   "source": [
    "Q7. Given a positive integer n, generate an n x n matrix filled with elements from 1 to n2 in spiral order."
   ]
  },
  {
   "cell_type": "code",
   "execution_count": 8,
   "id": "92a9d4d8",
   "metadata": {},
   "outputs": [],
   "source": [
    "def generateMatrix(n):\n",
    "    matrix = [[0] * n for _ in range(n)]\n",
    "\n",
    "    row_start = 0\n",
    "    row_end = n - 1\n",
    "    col_start = 0\n",
    "    col_end = n - 1\n",
    "\n",
    "    num = 1\n",
    "\n",
    "    while num <= n * n:\n",
    "        # Traverse top row from left to right\n",
    "        for col in range(col_start, col_end + 1):\n",
    "            matrix[row_start][col] = num\n",
    "            num += 1\n",
    "        row_start += 1\n",
    "\n",
    "        # Traverse right column from top to bottom\n",
    "        for row in range(row_start, row_end + 1):\n",
    "            matrix[row][col_end] = num\n",
    "            num += 1\n",
    "        col_end -= 1\n",
    "\n",
    "        # Traverse bottom row from right to left\n",
    "        for col in range(col_end, col_start - 1, -1):\n",
    "            matrix[row_end][col] = num\n",
    "            num += 1\n",
    "        row_end -= 1\n",
    "\n",
    "        # Traverse left column from bottom to top\n",
    "        for row in range(row_end, row_start - 1, -1):\n",
    "            matrix[row][col_start] = num\n",
    "            num += 1\n",
    "        col_start += 1\n",
    "\n",
    "    return matrix\n"
   ]
  },
  {
   "cell_type": "markdown",
   "id": "f38c61d3",
   "metadata": {},
   "source": [
    "Q8. Given two sparse matrices mat1 of size m x k and mat2 of size k x n, return the result of mat1 x mat2. You may assume that multiplication is always possible."
   ]
  },
  {
   "cell_type": "code",
   "execution_count": null,
   "id": "c3a970ae",
   "metadata": {},
   "outputs": [],
   "source": []
  }
 ],
 "metadata": {
  "kernelspec": {
   "display_name": "Python 3 (ipykernel)",
   "language": "python",
   "name": "python3"
  },
  "language_info": {
   "codemirror_mode": {
    "name": "ipython",
    "version": 3
   },
   "file_extension": ".py",
   "mimetype": "text/x-python",
   "name": "python",
   "nbconvert_exporter": "python",
   "pygments_lexer": "ipython3",
   "version": "3.10.9"
  }
 },
 "nbformat": 4,
 "nbformat_minor": 5
}
